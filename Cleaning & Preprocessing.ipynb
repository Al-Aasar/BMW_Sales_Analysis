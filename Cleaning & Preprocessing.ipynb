{
 "cells": [
  {
   "cell_type": "code",
   "execution_count": 1,
   "id": "8df8cf51",
   "metadata": {},
   "outputs": [],
   "source": [
    "import pandas as pd \n",
    "import numpy as np\n",
    "import seaborn as sns\n",
    "import matplotlib.pyplot as plt\n",
    "import plotly.express as px\n",
    "import warnings\n",
    "warnings.filterwarnings('ignore')"
   ]
  },
  {
   "cell_type": "code",
   "execution_count": 2,
   "id": "fa44d7bb",
   "metadata": {},
   "outputs": [],
   "source": [
    "data = pd.read_csv(\"BMW_Sales_Data.csv\")"
   ]
  },
  {
   "cell_type": "code",
   "execution_count": 3,
   "id": "d9fbfd6e",
   "metadata": {},
   "outputs": [
    {
     "data": {
      "text/html": [
       "<div>\n",
       "<style scoped>\n",
       "    .dataframe tbody tr th:only-of-type {\n",
       "        vertical-align: middle;\n",
       "    }\n",
       "\n",
       "    .dataframe tbody tr th {\n",
       "        vertical-align: top;\n",
       "    }\n",
       "\n",
       "    .dataframe thead th {\n",
       "        text-align: right;\n",
       "    }\n",
       "</style>\n",
       "<table border=\"1\" class=\"dataframe\">\n",
       "  <thead>\n",
       "    <tr style=\"text-align: right;\">\n",
       "      <th></th>\n",
       "      <th>Date</th>\n",
       "      <th>Model</th>\n",
       "      <th>Revenue</th>\n",
       "      <th>Quantity Sold</th>\n",
       "      <th>Region</th>\n",
       "      <th>Country</th>\n",
       "      <th>Channel</th>\n",
       "      <th>Engine Type</th>\n",
       "      <th>Cost</th>\n",
       "      <th>Payment Method</th>\n",
       "    </tr>\n",
       "  </thead>\n",
       "  <tbody>\n",
       "    <tr>\n",
       "      <th>0</th>\n",
       "      <td>1/1/2019</td>\n",
       "      <td>BMW X2</td>\n",
       "      <td>94654.0</td>\n",
       "      <td>2.0</td>\n",
       "      <td>Africa</td>\n",
       "      <td>Nigeria</td>\n",
       "      <td>Wholesale</td>\n",
       "      <td>Gasoline</td>\n",
       "      <td>35000.0</td>\n",
       "      <td>Bank Transfer</td>\n",
       "    </tr>\n",
       "    <tr>\n",
       "      <th>1</th>\n",
       "      <td>1/1/2019</td>\n",
       "      <td>BMW M4</td>\n",
       "      <td>111259.0</td>\n",
       "      <td>1.0</td>\n",
       "      <td>Africa</td>\n",
       "      <td>Kenya</td>\n",
       "      <td>Wholesale</td>\n",
       "      <td>Gasoline</td>\n",
       "      <td>60000.0</td>\n",
       "      <td>Bank Transfer</td>\n",
       "    </tr>\n",
       "    <tr>\n",
       "      <th>2</th>\n",
       "      <td>2/1/2019</td>\n",
       "      <td>BMW 6 Series</td>\n",
       "      <td>94881.0</td>\n",
       "      <td>3.0</td>\n",
       "      <td>South America</td>\n",
       "      <td>Chile</td>\n",
       "      <td>Wholesale</td>\n",
       "      <td>Hybrid</td>\n",
       "      <td>55000.0</td>\n",
       "      <td>Bank Transfer</td>\n",
       "    </tr>\n",
       "    <tr>\n",
       "      <th>3</th>\n",
       "      <td>4/1/2019</td>\n",
       "      <td>BMW X2</td>\n",
       "      <td>35293.0</td>\n",
       "      <td>4.0</td>\n",
       "      <td>Asia</td>\n",
       "      <td>South Korea</td>\n",
       "      <td>Wholesale</td>\n",
       "      <td>Gasoline</td>\n",
       "      <td>35000.0</td>\n",
       "      <td>Bank Transfer</td>\n",
       "    </tr>\n",
       "    <tr>\n",
       "      <th>4</th>\n",
       "      <td>4/1/2019</td>\n",
       "      <td>BMW M2</td>\n",
       "      <td>76275.0</td>\n",
       "      <td>5.0</td>\n",
       "      <td>Asia</td>\n",
       "      <td>Japan</td>\n",
       "      <td>Wholesale</td>\n",
       "      <td>Gasoline</td>\n",
       "      <td>50000.0</td>\n",
       "      <td>Bank Transfer</td>\n",
       "    </tr>\n",
       "  </tbody>\n",
       "</table>\n",
       "</div>"
      ],
      "text/plain": [
       "       Date         Model   Revenue  Quantity Sold         Region  \\\n",
       "0  1/1/2019        BMW X2   94654.0            2.0         Africa   \n",
       "1  1/1/2019        BMW M4  111259.0            1.0         Africa   \n",
       "2  2/1/2019  BMW 6 Series   94881.0            3.0  South America   \n",
       "3  4/1/2019        BMW X2   35293.0            4.0           Asia   \n",
       "4  4/1/2019        BMW M2   76275.0            5.0           Asia   \n",
       "\n",
       "       Country    Channel Engine Type     Cost Payment Method  \n",
       "0      Nigeria  Wholesale    Gasoline  35000.0  Bank Transfer  \n",
       "1        Kenya  Wholesale    Gasoline  60000.0  Bank Transfer  \n",
       "2        Chile  Wholesale      Hybrid  55000.0  Bank Transfer  \n",
       "3  South Korea  Wholesale    Gasoline  35000.0  Bank Transfer  \n",
       "4        Japan  Wholesale    Gasoline  50000.0  Bank Transfer  "
      ]
     },
     "execution_count": 3,
     "metadata": {},
     "output_type": "execute_result"
    }
   ],
   "source": [
    "data.head()"
   ]
  },
  {
   "cell_type": "code",
   "execution_count": 4,
   "id": "0a9a183d",
   "metadata": {},
   "outputs": [
    {
     "data": {
      "text/html": [
       "<div>\n",
       "<style scoped>\n",
       "    .dataframe tbody tr th:only-of-type {\n",
       "        vertical-align: middle;\n",
       "    }\n",
       "\n",
       "    .dataframe tbody tr th {\n",
       "        vertical-align: top;\n",
       "    }\n",
       "\n",
       "    .dataframe thead th {\n",
       "        text-align: right;\n",
       "    }\n",
       "</style>\n",
       "<table border=\"1\" class=\"dataframe\">\n",
       "  <thead>\n",
       "    <tr style=\"text-align: right;\">\n",
       "      <th></th>\n",
       "      <th>Date</th>\n",
       "      <th>Model</th>\n",
       "      <th>Revenue</th>\n",
       "      <th>Quantity Sold</th>\n",
       "      <th>Region</th>\n",
       "      <th>Country</th>\n",
       "      <th>Channel</th>\n",
       "      <th>Engine Type</th>\n",
       "      <th>Cost</th>\n",
       "      <th>Payment Method</th>\n",
       "    </tr>\n",
       "  </thead>\n",
       "  <tbody>\n",
       "    <tr>\n",
       "      <th>5773</th>\n",
       "      <td>31/12/2023</td>\n",
       "      <td>BMW M3</td>\n",
       "      <td>58530.0</td>\n",
       "      <td>1.0</td>\n",
       "      <td>Europe</td>\n",
       "      <td>Spain</td>\n",
       "      <td>Wholesale</td>\n",
       "      <td>NaN</td>\n",
       "      <td>NaN</td>\n",
       "      <td>Bank Transfer</td>\n",
       "    </tr>\n",
       "    <tr>\n",
       "      <th>5774</th>\n",
       "      <td>31/12/2023</td>\n",
       "      <td>BMW 4 Series</td>\n",
       "      <td>85902.0</td>\n",
       "      <td>2.0</td>\n",
       "      <td>North America</td>\n",
       "      <td>United States</td>\n",
       "      <td>Online</td>\n",
       "      <td>NaN</td>\n",
       "      <td>NaN</td>\n",
       "      <td>Installments</td>\n",
       "    </tr>\n",
       "    <tr>\n",
       "      <th>5775</th>\n",
       "      <td>NaN</td>\n",
       "      <td>NaN</td>\n",
       "      <td>NaN</td>\n",
       "      <td>NaN</td>\n",
       "      <td>NaN</td>\n",
       "      <td>NaN</td>\n",
       "      <td>NaN</td>\n",
       "      <td>NaN</td>\n",
       "      <td>NaN</td>\n",
       "      <td>NaN</td>\n",
       "    </tr>\n",
       "    <tr>\n",
       "      <th>5776</th>\n",
       "      <td>31/12/2023</td>\n",
       "      <td>BMW 5 Series</td>\n",
       "      <td>113394.0</td>\n",
       "      <td>2.0</td>\n",
       "      <td>South America</td>\n",
       "      <td>Chile</td>\n",
       "      <td>Wholesale</td>\n",
       "      <td>NaN</td>\n",
       "      <td>NaN</td>\n",
       "      <td>Bank Transfer</td>\n",
       "    </tr>\n",
       "    <tr>\n",
       "      <th>5777</th>\n",
       "      <td>31/12/2023</td>\n",
       "      <td>BMW 1 Series</td>\n",
       "      <td>73525.0</td>\n",
       "      <td>5.0</td>\n",
       "      <td>Asia</td>\n",
       "      <td>South Korea</td>\n",
       "      <td>Dealership</td>\n",
       "      <td>NaN</td>\n",
       "      <td>NaN</td>\n",
       "      <td>NaN</td>\n",
       "    </tr>\n",
       "  </tbody>\n",
       "</table>\n",
       "</div>"
      ],
      "text/plain": [
       "            Date         Model   Revenue  Quantity Sold         Region  \\\n",
       "5773  31/12/2023        BMW M3   58530.0            1.0         Europe   \n",
       "5774  31/12/2023  BMW 4 Series   85902.0            2.0  North America   \n",
       "5775         NaN           NaN       NaN            NaN            NaN   \n",
       "5776  31/12/2023  BMW 5 Series  113394.0            2.0  South America   \n",
       "5777  31/12/2023  BMW 1 Series   73525.0            5.0           Asia   \n",
       "\n",
       "            Country     Channel Engine Type  Cost Payment Method  \n",
       "5773          Spain   Wholesale         NaN   NaN  Bank Transfer  \n",
       "5774  United States      Online         NaN   NaN   Installments  \n",
       "5775            NaN         NaN         NaN   NaN            NaN  \n",
       "5776          Chile   Wholesale         NaN   NaN  Bank Transfer  \n",
       "5777    South Korea  Dealership         NaN   NaN            NaN  "
      ]
     },
     "execution_count": 4,
     "metadata": {},
     "output_type": "execute_result"
    }
   ],
   "source": [
    "data.tail()"
   ]
  },
  {
   "cell_type": "code",
   "execution_count": 5,
   "id": "d6cf9621",
   "metadata": {},
   "outputs": [
    {
     "data": {
      "text/plain": [
       "(5778, 10)"
      ]
     },
     "execution_count": 5,
     "metadata": {},
     "output_type": "execute_result"
    }
   ],
   "source": [
    "data.shape"
   ]
  },
  {
   "cell_type": "code",
   "execution_count": 6,
   "id": "ed44bb62",
   "metadata": {},
   "outputs": [
    {
     "data": {
      "text/plain": [
       "['Date',\n",
       " 'Model',\n",
       " 'Revenue',\n",
       " 'Quantity Sold',\n",
       " 'Region',\n",
       " 'Country',\n",
       " 'Channel',\n",
       " 'Engine Type',\n",
       " 'Cost',\n",
       " 'Payment Method']"
      ]
     },
     "execution_count": 6,
     "metadata": {},
     "output_type": "execute_result"
    }
   ],
   "source": [
    "data.columns.tolist()"
   ]
  },
  {
   "cell_type": "code",
   "execution_count": 7,
   "id": "5a3407fa",
   "metadata": {},
   "outputs": [
    {
     "name": "stdout",
     "output_type": "stream",
     "text": [
      "<class 'pandas.core.frame.DataFrame'>\n",
      "RangeIndex: 5778 entries, 0 to 5777\n",
      "Data columns (total 10 columns):\n",
      " #   Column          Non-Null Count  Dtype  \n",
      "---  ------          --------------  -----  \n",
      " 0   Date            5000 non-null   object \n",
      " 1   Model           5000 non-null   object \n",
      " 2   Revenue         5000 non-null   float64\n",
      " 3   Quantity Sold   5000 non-null   float64\n",
      " 4   Region          5000 non-null   object \n",
      " 5   Country         5000 non-null   object \n",
      " 6   Channel         5000 non-null   object \n",
      " 7   Engine Type     1956 non-null   object \n",
      " 8   Cost            5000 non-null   float64\n",
      " 9   Payment Method  3341 non-null   object \n",
      "dtypes: float64(3), object(7)\n",
      "memory usage: 451.5+ KB\n"
     ]
    }
   ],
   "source": [
    "data.info()"
   ]
  },
  {
   "cell_type": "code",
   "execution_count": 8,
   "id": "bb9bc712",
   "metadata": {},
   "outputs": [
    {
     "data": {
      "text/html": [
       "<div>\n",
       "<style scoped>\n",
       "    .dataframe tbody tr th:only-of-type {\n",
       "        vertical-align: middle;\n",
       "    }\n",
       "\n",
       "    .dataframe tbody tr th {\n",
       "        vertical-align: top;\n",
       "    }\n",
       "\n",
       "    .dataframe thead th {\n",
       "        text-align: right;\n",
       "    }\n",
       "</style>\n",
       "<table border=\"1\" class=\"dataframe\">\n",
       "  <thead>\n",
       "    <tr style=\"text-align: right;\">\n",
       "      <th></th>\n",
       "      <th>Revenue</th>\n",
       "      <th>Quantity Sold</th>\n",
       "      <th>Cost</th>\n",
       "    </tr>\n",
       "  </thead>\n",
       "  <tbody>\n",
       "    <tr>\n",
       "      <th>count</th>\n",
       "      <td>5000.000000</td>\n",
       "      <td>5000.000000</td>\n",
       "      <td>5000.000000</td>\n",
       "    </tr>\n",
       "    <tr>\n",
       "      <th>mean</th>\n",
       "      <td>75213.045000</td>\n",
       "      <td>3.000400</td>\n",
       "      <td>48598.145056</td>\n",
       "    </tr>\n",
       "    <tr>\n",
       "      <th>std</th>\n",
       "      <td>26274.843561</td>\n",
       "      <td>1.399854</td>\n",
       "      <td>6935.776509</td>\n",
       "    </tr>\n",
       "    <tr>\n",
       "      <th>min</th>\n",
       "      <td>30016.000000</td>\n",
       "      <td>1.000000</td>\n",
       "      <td>30145.000000</td>\n",
       "    </tr>\n",
       "    <tr>\n",
       "      <th>25%</th>\n",
       "      <td>52399.000000</td>\n",
       "      <td>2.000000</td>\n",
       "      <td>49021.983640</td>\n",
       "    </tr>\n",
       "    <tr>\n",
       "      <th>50%</th>\n",
       "      <td>75036.500000</td>\n",
       "      <td>3.000000</td>\n",
       "      <td>49021.983640</td>\n",
       "    </tr>\n",
       "    <tr>\n",
       "      <th>75%</th>\n",
       "      <td>98282.500000</td>\n",
       "      <td>4.000000</td>\n",
       "      <td>49021.983640</td>\n",
       "    </tr>\n",
       "    <tr>\n",
       "      <th>max</th>\n",
       "      <td>119998.000000</td>\n",
       "      <td>5.000000</td>\n",
       "      <td>70000.000000</td>\n",
       "    </tr>\n",
       "  </tbody>\n",
       "</table>\n",
       "</div>"
      ],
      "text/plain": [
       "             Revenue  Quantity Sold          Cost\n",
       "count    5000.000000    5000.000000   5000.000000\n",
       "mean    75213.045000       3.000400  48598.145056\n",
       "std     26274.843561       1.399854   6935.776509\n",
       "min     30016.000000       1.000000  30145.000000\n",
       "25%     52399.000000       2.000000  49021.983640\n",
       "50%     75036.500000       3.000000  49021.983640\n",
       "75%     98282.500000       4.000000  49021.983640\n",
       "max    119998.000000       5.000000  70000.000000"
      ]
     },
     "execution_count": 8,
     "metadata": {},
     "output_type": "execute_result"
    }
   ],
   "source": [
    "data.describe()"
   ]
  },
  {
   "cell_type": "code",
   "execution_count": 9,
   "id": "a4f91eeb",
   "metadata": {},
   "outputs": [
    {
     "data": {
      "text/html": [
       "<div>\n",
       "<style scoped>\n",
       "    .dataframe tbody tr th:only-of-type {\n",
       "        vertical-align: middle;\n",
       "    }\n",
       "\n",
       "    .dataframe tbody tr th {\n",
       "        vertical-align: top;\n",
       "    }\n",
       "\n",
       "    .dataframe thead th {\n",
       "        text-align: right;\n",
       "    }\n",
       "</style>\n",
       "<table border=\"1\" class=\"dataframe\">\n",
       "  <thead>\n",
       "    <tr style=\"text-align: right;\">\n",
       "      <th></th>\n",
       "      <th>Date</th>\n",
       "      <th>Model</th>\n",
       "      <th>Region</th>\n",
       "      <th>Country</th>\n",
       "      <th>Channel</th>\n",
       "      <th>Engine Type</th>\n",
       "      <th>Payment Method</th>\n",
       "    </tr>\n",
       "  </thead>\n",
       "  <tbody>\n",
       "    <tr>\n",
       "      <th>count</th>\n",
       "      <td>5000</td>\n",
       "      <td>5000</td>\n",
       "      <td>5000</td>\n",
       "      <td>5000</td>\n",
       "      <td>5000</td>\n",
       "      <td>1956</td>\n",
       "      <td>3341</td>\n",
       "    </tr>\n",
       "    <tr>\n",
       "      <th>unique</th>\n",
       "      <td>1721</td>\n",
       "      <td>26</td>\n",
       "      <td>5</td>\n",
       "      <td>23</td>\n",
       "      <td>3</td>\n",
       "      <td>4</td>\n",
       "      <td>3</td>\n",
       "    </tr>\n",
       "    <tr>\n",
       "      <th>top</th>\n",
       "      <td>3/2/2020</td>\n",
       "      <td>BMW Z4</td>\n",
       "      <td>Africa</td>\n",
       "      <td>United States</td>\n",
       "      <td>Wholesale</td>\n",
       "      <td>Gasoline</td>\n",
       "      <td>Bank Transfer</td>\n",
       "    </tr>\n",
       "    <tr>\n",
       "      <th>freq</th>\n",
       "      <td>9</td>\n",
       "      <td>223</td>\n",
       "      <td>1091</td>\n",
       "      <td>343</td>\n",
       "      <td>2215</td>\n",
       "      <td>1195</td>\n",
       "      <td>2215</td>\n",
       "    </tr>\n",
       "  </tbody>\n",
       "</table>\n",
       "</div>"
      ],
      "text/plain": [
       "            Date   Model  Region        Country    Channel Engine Type  \\\n",
       "count       5000    5000    5000           5000       5000        1956   \n",
       "unique      1721      26       5             23          3           4   \n",
       "top     3/2/2020  BMW Z4  Africa  United States  Wholesale    Gasoline   \n",
       "freq           9     223    1091            343       2215        1195   \n",
       "\n",
       "       Payment Method  \n",
       "count            3341  \n",
       "unique              3  \n",
       "top     Bank Transfer  \n",
       "freq             2215  "
      ]
     },
     "execution_count": 9,
     "metadata": {},
     "output_type": "execute_result"
    }
   ],
   "source": [
    "data.describe(include=\"O\")"
   ]
  },
  {
   "cell_type": "code",
   "execution_count": 10,
   "id": "c6e88d45",
   "metadata": {},
   "outputs": [],
   "source": [
    "data[\"Date\"] = pd.to_datetime(data[\"Date\"], dayfirst=True, errors=\"coerce\")"
   ]
  },
  {
   "cell_type": "code",
   "execution_count": 11,
   "id": "f321d2ff",
   "metadata": {},
   "outputs": [
    {
     "data": {
      "text/plain": [
       "Date              datetime64[ns]\n",
       "Model                     object\n",
       "Revenue                  float64\n",
       "Quantity Sold            float64\n",
       "Region                    object\n",
       "Country                   object\n",
       "Channel                   object\n",
       "Engine Type               object\n",
       "Cost                     float64\n",
       "Payment Method            object\n",
       "dtype: object"
      ]
     },
     "execution_count": 11,
     "metadata": {},
     "output_type": "execute_result"
    }
   ],
   "source": [
    "data.dtypes"
   ]
  },
  {
   "cell_type": "code",
   "execution_count": 12,
   "id": "68c161a7",
   "metadata": {},
   "outputs": [
    {
     "data": {
      "text/plain": [
       "Date               778\n",
       "Model              778\n",
       "Revenue            778\n",
       "Quantity Sold      778\n",
       "Region             778\n",
       "Country            778\n",
       "Channel            778\n",
       "Engine Type       3822\n",
       "Cost               778\n",
       "Payment Method    2437\n",
       "dtype: int64"
      ]
     },
     "execution_count": 12,
     "metadata": {},
     "output_type": "execute_result"
    }
   ],
   "source": [
    "data.isnull().sum()"
   ]
  },
  {
   "cell_type": "code",
   "execution_count": 13,
   "id": "d8ba9eee",
   "metadata": {},
   "outputs": [],
   "source": [
    "data.dropna(subset=[\"Date\"], inplace=True)"
   ]
  },
  {
   "cell_type": "code",
   "execution_count": 14,
   "id": "0ccaeab6",
   "metadata": {},
   "outputs": [
    {
     "data": {
      "text/plain": [
       "Date                 0\n",
       "Model                0\n",
       "Revenue              0\n",
       "Quantity Sold        0\n",
       "Region               0\n",
       "Country              0\n",
       "Channel              0\n",
       "Engine Type       3044\n",
       "Cost               670\n",
       "Payment Method    1659\n",
       "dtype: int64"
      ]
     },
     "execution_count": 14,
     "metadata": {},
     "output_type": "execute_result"
    }
   ],
   "source": [
    "data.isnull().sum()"
   ]
  },
  {
   "cell_type": "code",
   "execution_count": 15,
   "id": "3596ed63",
   "metadata": {},
   "outputs": [
    {
     "data": {
      "text/plain": [
       "Engine Type\n",
       "Gasoline    1195\n",
       "Hybrid       371\n",
       "Electric     205\n",
       "Diesel       185\n",
       "Name: count, dtype: int64"
      ]
     },
     "execution_count": 15,
     "metadata": {},
     "output_type": "execute_result"
    }
   ],
   "source": [
    "data[\"Engine Type\"].value_counts()"
   ]
  },
  {
   "cell_type": "code",
   "execution_count": 16,
   "id": "3121d34b",
   "metadata": {},
   "outputs": [
    {
     "data": {
      "text/plain": [
       "['BMW X2',\n",
       " 'BMW M4',\n",
       " 'BMW 6 Series',\n",
       " 'BMW M2',\n",
       " 'BMW iX3',\n",
       " 'BMW 8 Series',\n",
       " 'BMW 7 Series',\n",
       " 'BMW i4',\n",
       " 'BMW X4',\n",
       " 'BMW M3',\n",
       " 'BMW X6',\n",
       " 'BMW 5 Series',\n",
       " 'BMW M5',\n",
       " 'BMW X1',\n",
       " 'BMW 2 Series',\n",
       " 'BMW X5',\n",
       " 'BMW M8',\n",
       " 'BMW iX',\n",
       " 'BMW i8',\n",
       " 'BMW i3',\n",
       " 'BMW Z4',\n",
       " 'BMW 4 Series',\n",
       " 'BMW X3',\n",
       " 'BMW X7',\n",
       " 'BMW 3 Series',\n",
       " 'BMW 1 Series']"
      ]
     },
     "execution_count": 16,
     "metadata": {},
     "output_type": "execute_result"
    }
   ],
   "source": [
    "data[\"Model\"].unique().tolist()"
   ]
  },
  {
   "cell_type": "code",
   "execution_count": 17,
   "id": "4e6a08ef",
   "metadata": {},
   "outputs": [],
   "source": [
    "Gas_model = data[\"Model\"][data[\"Engine Type\"]==\"Gasoline\"].tolist()"
   ]
  },
  {
   "cell_type": "code",
   "execution_count": 18,
   "id": "1ccaf618",
   "metadata": {},
   "outputs": [],
   "source": [
    "Hyb_model = data[\"Model\"][data[\"Engine Type\"]==\"Hybrid\"].tolist()"
   ]
  },
  {
   "cell_type": "code",
   "execution_count": 19,
   "id": "c0fcd389",
   "metadata": {},
   "outputs": [],
   "source": [
    "Elc_model = data[\"Model\"][data[\"Engine Type\"]==\"Electric\"].tolist()"
   ]
  },
  {
   "cell_type": "code",
   "execution_count": 20,
   "id": "434f3ef0",
   "metadata": {},
   "outputs": [],
   "source": [
    "Die_model = data[\"Model\"][data[\"Engine Type\"]==\"Diesel\"].tolist()"
   ]
  },
  {
   "cell_type": "code",
   "execution_count": 21,
   "id": "049545e5",
   "metadata": {},
   "outputs": [],
   "source": [
    "data[\"Engine Type\"].fillna(\"no value\" , inplace=True)"
   ]
  },
  {
   "cell_type": "code",
   "execution_count": 22,
   "id": "08e7d76a",
   "metadata": {},
   "outputs": [],
   "source": [
    "no_Engine = data[\"Model\"][data[\"Engine Type\"]==\"no value\"].tolist()"
   ]
  },
  {
   "cell_type": "code",
   "execution_count": 23,
   "id": "e01d2d45",
   "metadata": {},
   "outputs": [],
   "source": [
    "for i in no_Engine:\n",
    "    if i in Gas_model:\n",
    "        data.loc[(data[\"Model\"] == i) & (data[\"Engine Type\"] == \"no value\"), \"Engine Type\"] = \"Gasoline\"\n",
    "    elif i in Hyb_model:\n",
    "        data.loc[(data[\"Model\"] == i) & (data[\"Engine Type\"] == \"no value\"), \"Engine Type\"] = \"Hybrid\"\n",
    "    elif i in Elc_model:\n",
    "        data.loc[(data[\"Model\"] == i) & (data[\"Engine Type\"] == \"no value\"), \"Engine Type\"] = \"Electric\"\n",
    "    elif i in Die_model:\n",
    "        data.loc[(data[\"Model\"] == i) & (data[\"Engine Type\"] == \"no value\"), \"Engine Type\"] = \"Diesel\""
   ]
  },
  {
   "cell_type": "code",
   "execution_count": 24,
   "id": "16ed1430",
   "metadata": {},
   "outputs": [],
   "source": [
    "x = data[\"Engine Type\"][data[\"Engine Type\"]!=\"no value\"]\n",
    "data[\"Engine Type\"].replace(\"no value\" , x.mode()[0] , inplace=True)"
   ]
  },
  {
   "cell_type": "code",
   "execution_count": 25,
   "id": "5f81f5bd",
   "metadata": {},
   "outputs": [
    {
     "data": {
      "text/plain": [
       "Date                 0\n",
       "Model                0\n",
       "Revenue              0\n",
       "Quantity Sold        0\n",
       "Region               0\n",
       "Country              0\n",
       "Channel              0\n",
       "Engine Type          0\n",
       "Cost               670\n",
       "Payment Method    1659\n",
       "dtype: int64"
      ]
     },
     "execution_count": 25,
     "metadata": {},
     "output_type": "execute_result"
    }
   ],
   "source": [
    "data.isnull().sum()"
   ]
  },
  {
   "cell_type": "code",
   "execution_count": 26,
   "id": "624c6dca",
   "metadata": {},
   "outputs": [],
   "source": [
    "data[\"Cost\"].fillna(data[\"Cost\"].mean() , inplace=True)"
   ]
  },
  {
   "cell_type": "code",
   "execution_count": 27,
   "id": "b4ef145c",
   "metadata": {},
   "outputs": [
    {
     "data": {
      "text/plain": [
       "Date                 0\n",
       "Model                0\n",
       "Revenue              0\n",
       "Quantity Sold        0\n",
       "Region               0\n",
       "Country              0\n",
       "Channel              0\n",
       "Engine Type          0\n",
       "Cost                 0\n",
       "Payment Method    1659\n",
       "dtype: int64"
      ]
     },
     "execution_count": 27,
     "metadata": {},
     "output_type": "execute_result"
    }
   ],
   "source": [
    "data.isnull().sum()"
   ]
  },
  {
   "cell_type": "code",
   "execution_count": 28,
   "id": "2f5236e6",
   "metadata": {},
   "outputs": [
    {
     "data": {
      "text/plain": [
       "array(['Gasoline', 'Hybrid', 'Diesel', 'Electric'], dtype=object)"
      ]
     },
     "execution_count": 28,
     "metadata": {},
     "output_type": "execute_result"
    }
   ],
   "source": [
    "data[\"Engine Type\"].unique()"
   ]
  },
  {
   "cell_type": "code",
   "execution_count": 29,
   "id": "03e849d5",
   "metadata": {},
   "outputs": [
    {
     "data": {
      "text/plain": [
       "array(['Bank Transfer', nan, 'Cash', 'Installments'], dtype=object)"
      ]
     },
     "execution_count": 29,
     "metadata": {},
     "output_type": "execute_result"
    }
   ],
   "source": [
    "data[\"Payment Method\"].unique()"
   ]
  },
  {
   "cell_type": "code",
   "execution_count": 30,
   "id": "b7cba9d8",
   "metadata": {},
   "outputs": [
    {
     "data": {
      "text/plain": [
       "array(['Wholesale', 'Dealership', 'Online'], dtype=object)"
      ]
     },
     "execution_count": 30,
     "metadata": {},
     "output_type": "execute_result"
    }
   ],
   "source": [
    "data[\"Channel\"].unique()"
   ]
  },
  {
   "cell_type": "code",
   "execution_count": 31,
   "id": "1dc9acdc",
   "metadata": {},
   "outputs": [],
   "source": [
    "data[\"Payment Method\"].fillna(\"no value\" , inplace = True)"
   ]
  },
  {
   "cell_type": "code",
   "execution_count": 32,
   "id": "9b30c816",
   "metadata": {},
   "outputs": [
    {
     "data": {
      "text/plain": [
       "Channel\n",
       "Dealership    1659\n",
       "Name: count, dtype: int64"
      ]
     },
     "execution_count": 32,
     "metadata": {},
     "output_type": "execute_result"
    }
   ],
   "source": [
    "data[\"Channel\"][data[\"Payment Method\"]==\"no value\"].value_counts()"
   ]
  },
  {
   "cell_type": "code",
   "execution_count": 33,
   "id": "3a648f3b",
   "metadata": {},
   "outputs": [
    {
     "data": {
      "text/plain": [
       "Channel\n",
       "Online    1121\n",
       "Name: count, dtype: int64"
      ]
     },
     "execution_count": 33,
     "metadata": {},
     "output_type": "execute_result"
    }
   ],
   "source": [
    "data[\"Channel\"][data[\"Payment Method\"]==\"Installments\"].value_counts()"
   ]
  },
  {
   "cell_type": "code",
   "execution_count": 34,
   "id": "45901b6b",
   "metadata": {},
   "outputs": [
    {
     "data": {
      "text/plain": [
       "Channel\n",
       "Wholesale    2215\n",
       "Name: count, dtype: int64"
      ]
     },
     "execution_count": 34,
     "metadata": {},
     "output_type": "execute_result"
    }
   ],
   "source": [
    "data[\"Channel\"][data[\"Payment Method\"]==\"Bank Transfer\"].value_counts()"
   ]
  },
  {
   "cell_type": "code",
   "execution_count": 35,
   "id": "9308c024",
   "metadata": {},
   "outputs": [
    {
     "data": {
      "text/plain": [
       "Channel\n",
       "Dealership    5\n",
       "Name: count, dtype: int64"
      ]
     },
     "execution_count": 35,
     "metadata": {},
     "output_type": "execute_result"
    }
   ],
   "source": [
    "data[\"Channel\"][data[\"Payment Method\"]==\"Cash\"].value_counts()"
   ]
  },
  {
   "cell_type": "code",
   "execution_count": 36,
   "id": "4e4c5b2d",
   "metadata": {},
   "outputs": [],
   "source": [
    "data[\"Payment Method\"].replace(\"no value\" ,\"Cash\" ,inplace=True)"
   ]
  },
  {
   "cell_type": "code",
   "execution_count": 37,
   "id": "1a2ff3b9",
   "metadata": {},
   "outputs": [
    {
     "data": {
      "text/plain": [
       "Date              0\n",
       "Model             0\n",
       "Revenue           0\n",
       "Quantity Sold     0\n",
       "Region            0\n",
       "Country           0\n",
       "Channel           0\n",
       "Engine Type       0\n",
       "Cost              0\n",
       "Payment Method    0\n",
       "dtype: int64"
      ]
     },
     "execution_count": 37,
     "metadata": {},
     "output_type": "execute_result"
    }
   ],
   "source": [
    "data.isnull().sum()"
   ]
  },
  {
   "cell_type": "code",
   "execution_count": 38,
   "id": "acafdc5f",
   "metadata": {},
   "outputs": [
    {
     "data": {
      "text/html": [
       "<div>\n",
       "<style scoped>\n",
       "    .dataframe tbody tr th:only-of-type {\n",
       "        vertical-align: middle;\n",
       "    }\n",
       "\n",
       "    .dataframe tbody tr th {\n",
       "        vertical-align: top;\n",
       "    }\n",
       "\n",
       "    .dataframe thead th {\n",
       "        text-align: right;\n",
       "    }\n",
       "</style>\n",
       "<table border=\"1\" class=\"dataframe\">\n",
       "  <thead>\n",
       "    <tr style=\"text-align: right;\">\n",
       "      <th></th>\n",
       "      <th>Revenue</th>\n",
       "    </tr>\n",
       "    <tr>\n",
       "      <th>Country</th>\n",
       "      <th></th>\n",
       "    </tr>\n",
       "  </thead>\n",
       "  <tbody>\n",
       "    <tr>\n",
       "      <th>Argentina</th>\n",
       "      <td>75846.344660</td>\n",
       "    </tr>\n",
       "    <tr>\n",
       "      <th>Brazil</th>\n",
       "      <td>74875.795812</td>\n",
       "    </tr>\n",
       "    <tr>\n",
       "      <th>Canada</th>\n",
       "      <td>76158.622581</td>\n",
       "    </tr>\n",
       "    <tr>\n",
       "      <th>Chile</th>\n",
       "      <td>75020.004785</td>\n",
       "    </tr>\n",
       "    <tr>\n",
       "      <th>China</th>\n",
       "      <td>75396.845411</td>\n",
       "    </tr>\n",
       "    <tr>\n",
       "      <th>Colombia</th>\n",
       "      <td>75264.694444</td>\n",
       "    </tr>\n",
       "    <tr>\n",
       "      <th>Egypt</th>\n",
       "      <td>73790.940909</td>\n",
       "    </tr>\n",
       "    <tr>\n",
       "      <th>France</th>\n",
       "      <td>74787.035928</td>\n",
       "    </tr>\n",
       "    <tr>\n",
       "      <th>Germany</th>\n",
       "      <td>77553.377049</td>\n",
       "    </tr>\n",
       "    <tr>\n",
       "      <th>India</th>\n",
       "      <td>78291.612903</td>\n",
       "    </tr>\n",
       "    <tr>\n",
       "      <th>Italy</th>\n",
       "      <td>72236.702857</td>\n",
       "    </tr>\n",
       "    <tr>\n",
       "      <th>Japan</th>\n",
       "      <td>75014.712871</td>\n",
       "    </tr>\n",
       "    <tr>\n",
       "      <th>Kenya</th>\n",
       "      <td>75108.693333</td>\n",
       "    </tr>\n",
       "    <tr>\n",
       "      <th>Mexico</th>\n",
       "      <td>75618.957958</td>\n",
       "    </tr>\n",
       "    <tr>\n",
       "      <th>Morocco</th>\n",
       "      <td>76075.596859</td>\n",
       "    </tr>\n",
       "    <tr>\n",
       "      <th>Nigeria</th>\n",
       "      <td>75846.109312</td>\n",
       "    </tr>\n",
       "    <tr>\n",
       "      <th>Peru</th>\n",
       "      <td>72562.037838</td>\n",
       "    </tr>\n",
       "    <tr>\n",
       "      <th>South Africa</th>\n",
       "      <td>76426.293269</td>\n",
       "    </tr>\n",
       "    <tr>\n",
       "      <th>South Korea</th>\n",
       "      <td>74767.642512</td>\n",
       "    </tr>\n",
       "    <tr>\n",
       "      <th>Spain</th>\n",
       "      <td>75796.919811</td>\n",
       "    </tr>\n",
       "    <tr>\n",
       "      <th>Thailand</th>\n",
       "      <td>74519.226519</td>\n",
       "    </tr>\n",
       "    <tr>\n",
       "      <th>United Kingdom</th>\n",
       "      <td>76103.408163</td>\n",
       "    </tr>\n",
       "    <tr>\n",
       "      <th>United States</th>\n",
       "      <td>73174.463557</td>\n",
       "    </tr>\n",
       "  </tbody>\n",
       "</table>\n",
       "</div>"
      ],
      "text/plain": [
       "                     Revenue\n",
       "Country                     \n",
       "Argentina       75846.344660\n",
       "Brazil          74875.795812\n",
       "Canada          76158.622581\n",
       "Chile           75020.004785\n",
       "China           75396.845411\n",
       "Colombia        75264.694444\n",
       "Egypt           73790.940909\n",
       "France          74787.035928\n",
       "Germany         77553.377049\n",
       "India           78291.612903\n",
       "Italy           72236.702857\n",
       "Japan           75014.712871\n",
       "Kenya           75108.693333\n",
       "Mexico          75618.957958\n",
       "Morocco         76075.596859\n",
       "Nigeria         75846.109312\n",
       "Peru            72562.037838\n",
       "South Africa    76426.293269\n",
       "South Korea     74767.642512\n",
       "Spain           75796.919811\n",
       "Thailand        74519.226519\n",
       "United Kingdom  76103.408163\n",
       "United States   73174.463557"
      ]
     },
     "execution_count": 38,
     "metadata": {},
     "output_type": "execute_result"
    }
   ],
   "source": [
    "data.pivot_table(index=\"Country\" , values=\"Revenue\" , aggfunc=\"mean\")"
   ]
  },
  {
   "cell_type": "code",
   "execution_count": 39,
   "id": "c16b8ea8",
   "metadata": {},
   "outputs": [
    {
     "data": {
      "text/plain": [
       "['Date',\n",
       " 'Model',\n",
       " 'Revenue',\n",
       " 'Quantity Sold',\n",
       " 'Region',\n",
       " 'Country',\n",
       " 'Channel',\n",
       " 'Engine Type',\n",
       " 'Cost',\n",
       " 'Payment Method']"
      ]
     },
     "execution_count": 39,
     "metadata": {},
     "output_type": "execute_result"
    }
   ],
   "source": [
    "data.columns.tolist()"
   ]
  },
  {
   "cell_type": "code",
   "execution_count": 40,
   "id": "ffd0fd0d",
   "metadata": {},
   "outputs": [],
   "source": [
    "data[\"Gross Revenue\"] = data[\"Revenue\"] * data[\"Quantity Sold\"]"
   ]
  },
  {
   "cell_type": "code",
   "execution_count": 41,
   "id": "64ff393d",
   "metadata": {},
   "outputs": [],
   "source": [
    "data[\"Total Cost\"] = data[\"Quantity Sold\"] * data[\"Cost\"]"
   ]
  },
  {
   "cell_type": "code",
   "execution_count": 42,
   "id": "3749d989",
   "metadata": {},
   "outputs": [],
   "source": [
    "data[\"Net Profit\"] = data[\"Gross Revenue\"] - data[\"Total Cost\"]"
   ]
  },
  {
   "cell_type": "code",
   "execution_count": 43,
   "id": "6f7f4494",
   "metadata": {},
   "outputs": [],
   "source": [
    "data[\"Percentage of Net Profit\"] = (data[\"Net Profit\"] / data[\"Revenue\"]) * 100"
   ]
  },
  {
   "cell_type": "code",
   "execution_count": 44,
   "id": "3d77d464",
   "metadata": {},
   "outputs": [
    {
     "data": {
      "text/html": [
       "<div>\n",
       "<style scoped>\n",
       "    .dataframe tbody tr th:only-of-type {\n",
       "        vertical-align: middle;\n",
       "    }\n",
       "\n",
       "    .dataframe tbody tr th {\n",
       "        vertical-align: top;\n",
       "    }\n",
       "\n",
       "    .dataframe thead th {\n",
       "        text-align: right;\n",
       "    }\n",
       "</style>\n",
       "<table border=\"1\" class=\"dataframe\">\n",
       "  <thead>\n",
       "    <tr style=\"text-align: right;\">\n",
       "      <th></th>\n",
       "      <th>Date</th>\n",
       "      <th>Model</th>\n",
       "      <th>Revenue</th>\n",
       "      <th>Quantity Sold</th>\n",
       "      <th>Region</th>\n",
       "      <th>Country</th>\n",
       "      <th>Channel</th>\n",
       "      <th>Engine Type</th>\n",
       "      <th>Cost</th>\n",
       "      <th>Payment Method</th>\n",
       "      <th>Gross Revenue</th>\n",
       "      <th>Total Cost</th>\n",
       "      <th>Net Profit</th>\n",
       "      <th>Percentage of Net Profit</th>\n",
       "    </tr>\n",
       "  </thead>\n",
       "  <tbody>\n",
       "    <tr>\n",
       "      <th>0</th>\n",
       "      <td>2019-01-01</td>\n",
       "      <td>BMW X2</td>\n",
       "      <td>94654.0</td>\n",
       "      <td>2.0</td>\n",
       "      <td>Africa</td>\n",
       "      <td>Nigeria</td>\n",
       "      <td>Wholesale</td>\n",
       "      <td>Gasoline</td>\n",
       "      <td>35000.0</td>\n",
       "      <td>Bank Transfer</td>\n",
       "      <td>189308.0</td>\n",
       "      <td>70000.0</td>\n",
       "      <td>119308.0</td>\n",
       "      <td>126.046443</td>\n",
       "    </tr>\n",
       "    <tr>\n",
       "      <th>1</th>\n",
       "      <td>2019-01-01</td>\n",
       "      <td>BMW M4</td>\n",
       "      <td>111259.0</td>\n",
       "      <td>1.0</td>\n",
       "      <td>Africa</td>\n",
       "      <td>Kenya</td>\n",
       "      <td>Wholesale</td>\n",
       "      <td>Gasoline</td>\n",
       "      <td>60000.0</td>\n",
       "      <td>Bank Transfer</td>\n",
       "      <td>111259.0</td>\n",
       "      <td>60000.0</td>\n",
       "      <td>51259.0</td>\n",
       "      <td>46.071778</td>\n",
       "    </tr>\n",
       "    <tr>\n",
       "      <th>2</th>\n",
       "      <td>2019-01-02</td>\n",
       "      <td>BMW 6 Series</td>\n",
       "      <td>94881.0</td>\n",
       "      <td>3.0</td>\n",
       "      <td>South America</td>\n",
       "      <td>Chile</td>\n",
       "      <td>Wholesale</td>\n",
       "      <td>Hybrid</td>\n",
       "      <td>55000.0</td>\n",
       "      <td>Bank Transfer</td>\n",
       "      <td>284643.0</td>\n",
       "      <td>165000.0</td>\n",
       "      <td>119643.0</td>\n",
       "      <td>126.097954</td>\n",
       "    </tr>\n",
       "    <tr>\n",
       "      <th>3</th>\n",
       "      <td>2019-01-04</td>\n",
       "      <td>BMW X2</td>\n",
       "      <td>35293.0</td>\n",
       "      <td>4.0</td>\n",
       "      <td>Asia</td>\n",
       "      <td>South Korea</td>\n",
       "      <td>Wholesale</td>\n",
       "      <td>Gasoline</td>\n",
       "      <td>35000.0</td>\n",
       "      <td>Bank Transfer</td>\n",
       "      <td>141172.0</td>\n",
       "      <td>140000.0</td>\n",
       "      <td>1172.0</td>\n",
       "      <td>3.320772</td>\n",
       "    </tr>\n",
       "    <tr>\n",
       "      <th>4</th>\n",
       "      <td>2019-01-04</td>\n",
       "      <td>BMW M2</td>\n",
       "      <td>76275.0</td>\n",
       "      <td>5.0</td>\n",
       "      <td>Asia</td>\n",
       "      <td>Japan</td>\n",
       "      <td>Wholesale</td>\n",
       "      <td>Gasoline</td>\n",
       "      <td>50000.0</td>\n",
       "      <td>Bank Transfer</td>\n",
       "      <td>381375.0</td>\n",
       "      <td>250000.0</td>\n",
       "      <td>131375.0</td>\n",
       "      <td>172.238610</td>\n",
       "    </tr>\n",
       "  </tbody>\n",
       "</table>\n",
       "</div>"
      ],
      "text/plain": [
       "        Date         Model   Revenue  Quantity Sold         Region  \\\n",
       "0 2019-01-01        BMW X2   94654.0            2.0         Africa   \n",
       "1 2019-01-01        BMW M4  111259.0            1.0         Africa   \n",
       "2 2019-01-02  BMW 6 Series   94881.0            3.0  South America   \n",
       "3 2019-01-04        BMW X2   35293.0            4.0           Asia   \n",
       "4 2019-01-04        BMW M2   76275.0            5.0           Asia   \n",
       "\n",
       "       Country    Channel Engine Type     Cost Payment Method  Gross Revenue  \\\n",
       "0      Nigeria  Wholesale    Gasoline  35000.0  Bank Transfer       189308.0   \n",
       "1        Kenya  Wholesale    Gasoline  60000.0  Bank Transfer       111259.0   \n",
       "2        Chile  Wholesale      Hybrid  55000.0  Bank Transfer       284643.0   \n",
       "3  South Korea  Wholesale    Gasoline  35000.0  Bank Transfer       141172.0   \n",
       "4        Japan  Wholesale    Gasoline  50000.0  Bank Transfer       381375.0   \n",
       "\n",
       "   Total Cost  Net Profit  Percentage of Net Profit  \n",
       "0     70000.0    119308.0                126.046443  \n",
       "1     60000.0     51259.0                 46.071778  \n",
       "2    165000.0    119643.0                126.097954  \n",
       "3    140000.0      1172.0                  3.320772  \n",
       "4    250000.0    131375.0                172.238610  "
      ]
     },
     "execution_count": 44,
     "metadata": {},
     "output_type": "execute_result"
    }
   ],
   "source": [
    "data.head()"
   ]
  },
  {
   "cell_type": "code",
   "execution_count": 45,
   "id": "ccb23f64",
   "metadata": {},
   "outputs": [
    {
     "data": {
      "text/plain": [
       "['Date',\n",
       " 'Model',\n",
       " 'Revenue',\n",
       " 'Quantity Sold',\n",
       " 'Region',\n",
       " 'Country',\n",
       " 'Channel',\n",
       " 'Engine Type',\n",
       " 'Cost',\n",
       " 'Payment Method',\n",
       " 'Gross Revenue',\n",
       " 'Total Cost',\n",
       " 'Net Profit',\n",
       " 'Percentage of Net Profit']"
      ]
     },
     "execution_count": 45,
     "metadata": {},
     "output_type": "execute_result"
    }
   ],
   "source": [
    "data.columns.tolist()"
   ]
  },
  {
   "cell_type": "code",
   "execution_count": 46,
   "id": "804766dc",
   "metadata": {
    "scrolled": false
   },
   "outputs": [
    {
     "data": {
      "image/png": "[encoded data removed]",
      "text/plain": [
       "<Figure size 600x400 with 1 Axes>"
      ]
     },
     "metadata": {},
     "output_type": "display_data"
    },
    {
     "data": {
      "image/png": "[encoded data removed]",
      "text/plain": [
       "<Figure size 600x400 with 1 Axes>"
      ]
     },
     "metadata": {},
     "output_type": "display_data"
    },
    {
     "data": {
      "image/png": "[encoded data removed]",
      "text/plain": [
       "<Figure size 600x400 with 1 Axes>"
      ]
     },
     "metadata": {},
     "output_type": "display_data"
    },
    {
     "data": {
      "image/png": "[encoded data removed]",
      "text/plain": [
       "<Figure size 600x400 with 1 Axes>"
      ]
     },
     "metadata": {},
     "output_type": "display_data"
    },
    {
     "data": {
      "image/png": "[encoded data removed]",
      "text/plain": [
       "<Figure size 600x400 with 1 Axes>"
      ]
     },
     "metadata": {},
     "output_type": "display_data"
    }
   ],
   "source": [
    "columns = ['Revenue','Cost','Gross Revenue','Total Cost','Net Profit']\n",
    "for col in columns :\n",
    "    plt.figure(figsize=(6, 4))\n",
    "    sns.boxplot(y=data[col], color=\"red\")\n",
    "    plt.title(f'Distribution of {col}')\n",
    "    plt.show()"
   ]
  },
  {
   "cell_type": "code",
   "execution_count": 47,
   "id": "a0b24dde",
   "metadata": {},
   "outputs": [
    {
     "data": {
      "text/plain": [
       "<Axes: xlabel='Cost', ylabel='Count'>"
      ]
     },
     "execution_count": 47,
     "metadata": {},
     "output_type": "execute_result"
    },
    {
     "data": {
      "image/png": "[encoded data removed]",
      "text/plain": [
       "<Figure size 640x480 with 1 Axes>"
      ]
     },
     "metadata": {},
     "output_type": "display_data"
    }
   ],
   "source": [
    "sns.histplot(data[\"Cost\"] , kde=True , color=\"red\" , bins=10)"
   ]
  },
  {
   "cell_type": "code",
   "execution_count": 48,
   "id": "d21cb159",
   "metadata": {},
   "outputs": [
    {
     "data": {
      "image/png": "[encoded data removed]",
      "text/plain": [
       "<Figure size 640x480 with 2 Axes>"
      ]
     },
     "metadata": {},
     "output_type": "display_data"
    }
   ],
   "source": [
    "corr_matrix = data.select_dtypes([\"int\",\"float64\"])\n",
    "sns.heatmap(corr_matrix.corr(), annot=True,cmap='Purples', fmt=\".2f\")\n",
    "plt.title(\"correlation Matix\")\n",
    "plt.show()"
   ]
  },
  {
   "cell_type": "code",
   "execution_count": 49,
   "id": "19124f21",
   "metadata": {},
   "outputs": [],
   "source": [
    "data.to_excel(\"Cleaned_BMW_Sales_Data.xlsx\", index=False)"
   ]
  },
  {
   "cell_type": "code",
   "execution_count": null,
   "id": "798cb6e6",
   "metadata": {},
   "outputs": [],
   "source": []
  }
 ],
 "metadata": {
  "kernelspec": {
   "display_name": "Python 3 (ipykernel)",
   "language": "python",
   "name": "python3"
  },
  "language_info": {
   "codemirror_mode": {
    "name": "ipython",
    "version": 3
   },
   "file_extension": ".py",
   "mimetype": "text/x-python",
   "name": "python",
   "nbconvert_exporter": "python",
   "pygments_lexer": "ipython3",
   "version": "3.11.5"
  }
 },
 "nbformat": 4,
 "nbformat_minor": 5
}
